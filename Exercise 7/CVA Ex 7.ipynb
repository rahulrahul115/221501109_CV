{
 "cells": [
  {
   "cell_type": "code",
   "execution_count": 1,
   "id": "ca9c368a-1045-4d05-a5f9-8cfdf0bab192",
   "metadata": {},
   "outputs": [
    {
     "name": "stdout",
     "output_type": "stream",
     "text": [
      "Requirement already satisfied: opencv-python in c:\\users\\menak\\appdata\\local\\programs\\python\\python312\\lib\\site-packages (4.11.0.86)\n",
      "Requirement already satisfied: opencv-contrib-python in c:\\users\\menak\\appdata\\local\\programs\\python\\python312\\lib\\site-packages (4.11.0.86)\n",
      "Requirement already satisfied: numpy>=1.21.2 in c:\\users\\menak\\appdata\\local\\programs\\python\\python312\\lib\\site-packages (from opencv-python) (2.0.2)\n"
     ]
    }
   ],
   "source": [
    "!pip install opencv-python opencv-contrib-python"
   ]
  },
  {
   "cell_type": "code",
   "execution_count": null,
   "id": "1f6ed72f-19d8-4c61-b1f4-b061db06f2fd",
   "metadata": {},
   "outputs": [],
   "source": [
    "import cv2\n",
    "import numpy as np\n",
    "import time\n",
    "\n",
    "# Load SSD model (MobileNet-SSD)\n",
    "prototxt_path = \"C:/Users/menak/CLG/CV/MobileNetSSD_deploy.prototxt\"\n",
    "caffemodel_path = \"C:/Users/menak/CLG/CV/MobileNetSSD_deploy.caffemodel\"\n",
    "net = cv2.dnn.readNetFromCaffe(prototxt_path, caffemodel_path)\n",
    "\n",
    "# Define object classes relevant to self-driving cars\n",
    "CLASSES = [\"background\", \"aeroplane\", \"bicycle\", \"bird\", \"boat\", \"bottle\", \"bus\",\n",
    "           \"car\", \"cat\", \"chair\", \"cow\", \"diningtable\", \"dog\", \"horse\", \"motorbike\",\n",
    "           \"person\", \"pottedplant\", \"sheep\", \"sofa\", \"train\", \"tvmonitor\"]\n",
    "RELEVANT_CLASSES = {\"car\", \"bus\", \"motorbike\", \"person\", \"bicycle\", \"traffic light\"}\n",
    "\n",
    "# Load video file (set video path or use 0 for webcam)\n",
    "video_source = \"C:/Users/menak/CLG/CV/FREE STOCK FOOTAGE - Heavy traffic.mp4\"  # Replace with 0 for webcam\n",
    "cap = cv2.VideoCapture(video_source)\n",
    "\n",
    "if not cap.isOpened():\n",
    "    print(\"Error: Could not open video.\")\n",
    "    exit()\n",
    "\n",
    "last_frame = None  # Store the last processed frame\n",
    "last_capture_time = time.time()  # Initialize time tracking\n",
    "\n",
    "while True:\n",
    "    ret, frame = cap.read()\n",
    "    if not ret:\n",
    "        break  # Stop if video ends\n",
    "\n",
    "    current_time = time.time()\n",
    "    \n",
    "    # Capture frame only if 2 seconds have passed\n",
    "    if current_time - last_capture_time >= 2:\n",
    "        (h, w) = frame.shape[:2]\n",
    "        blob = cv2.dnn.blobFromImage(cv2.resize(frame, (300, 300)), 0.007843, (300, 300), 127.5)\n",
    "        net.setInput(blob)\n",
    "        detections = net.forward()\n",
    "\n",
    "        for i in range(detections.shape[2]):\n",
    "            confidence = detections[0, 0, i, 2]\n",
    "            if confidence > 0.4:  # Confidence threshold\n",
    "                idx = int(detections[0, 0, i, 1])\n",
    "                label = CLASSES[idx]\n",
    "\n",
    "                if label in RELEVANT_CLASSES:\n",
    "                    box = detections[0, 0, i, 3:7] * np.array([w, h, w, h])\n",
    "                    (startX, startY, endX, endY) = box.astype(\"int\")\n",
    "\n",
    "                    # Draw bounding box and label\n",
    "                    cv2.rectangle(frame, (startX, startY), (endX, endY), (0, 255, 0), 2)\n",
    "                    text = f\"{label}: {confidence * 100:.1f}%\"\n",
    "                    cv2.putText(frame, text, (startX, startY - 10), cv2.FONT_HERSHEY_SIMPLEX, 0.5, (0, 255, 0), 2)\n",
    "\n",
    "                    print(f\"Detected: {label} with {confidence * 100:.1f}% confidence\")\n",
    "\n",
    "        cv2.imshow(\"Self-Driving Car Object Detection\", frame)\n",
    "        last_frame = frame.copy()  # Store last frame\n",
    "        last_capture_time = current_time  # Reset time tracker\n",
    "\n",
    "    # Press 'q' to exit\n",
    "    if cv2.waitKey(1) & 0xFF == ord(\"q\"):\n",
    "        break\n",
    "\n",
    "cap.release()\n",
    "cv2.destroyAllWindows()\n",
    "\n",
    "# Show the last captured frame with detections\n",
    "if last_frame is not None:\n",
    "    cv2.imshow(\"Final Detected Frame\", last_frame)\n",
    "    cv2.waitKey(0)  # Wait indefinitely until key is pressed\n",
    "    cv2.destroyAllWindows()"
   ]
  },
  {
   "cell_type": "code",
   "execution_count": null,
   "id": "83f34a5e-6f7c-4516-bf5c-c5803ed09d81",
   "metadata": {},
   "outputs": [],
   "source": []
  }
 ],
 "metadata": {
  "kernelspec": {
   "display_name": "Python 3 (ipykernel)",
   "language": "python",
   "name": "python3"
  },
  "language_info": {
   "codemirror_mode": {
    "name": "ipython",
    "version": 3
   },
   "file_extension": ".py",
   "mimetype": "text/x-python",
   "name": "python",
   "nbconvert_exporter": "python",
   "pygments_lexer": "ipython3",
   "version": "3.12.5"
  }
 },
 "nbformat": 4,
 "nbformat_minor": 5
}
